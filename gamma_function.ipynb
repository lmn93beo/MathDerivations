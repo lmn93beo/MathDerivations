{
 "cells": [
  {
   "cell_type": "markdown",
   "metadata": {},
   "source": [
    "# Thoughts while solving a nasty integral\n",
    "*Nhat Le, Aug 4, 2017*"
   ]
  },
  {
   "cell_type": "markdown",
   "metadata": {},
   "source": [
    "Today, I had to solve an integral like this:\n",
    "\n",
    "$$\\int_0^\\infty x^N \\ \\exp\\left(-Mx^2\\right) \\ \\mathrm{d}x $$\n",
    "\n",
    "It is probably solvable by parts, but being lazy and being a fan of Feynman, I decided to differentiate under the integral sign"
   ]
  },
  {
   "cell_type": "markdown",
   "metadata": {},
   "source": [
    "I started with the integral:\n",
    "\n",
    "\\begin{align}\n",
    "\t\t\\int_0^\\infty x \\ \\exp\\left(-Mx^2\\right) \\ \\mathrm{d}x = \\frac{-1}{2M} \\ \\left.\\exp\\left(-Mx^2\\right) \\right|_0^\\infty = \\frac{1}{2M}\n",
    "\t\\end{align}"
   ]
  },
  {
   "cell_type": "markdown",
   "metadata": {},
   "source": [
    "Now comes the crucial step: I differentiated both sides *with respect to M*, several times..."
   ]
  },
  {
   "cell_type": "markdown",
   "metadata": {},
   "source": [
    "\\begin{align}\n",
    "\t\\int_0^\\infty x^3 \\ \\exp\\left(-Mx^2\\right) \\ \\mathrm{d}x = \\frac{1}{2M^2} \\\\[1em]\n",
    "\t\\int_0^\\infty x^5 \\ \\exp\\left(-Mx^2\\right) \\ \\mathrm{d}x = \\frac{2}{2M^3} \\\\[1em]\n",
    "\t\\int_0^\\infty x^7 \\ \\exp\\left(-Mx^2\\right) \\ \\mathrm{d}x = \\frac{6}{2M^4}\n",
    "\\end{align}"
   ]
  },
  {
   "cell_type": "markdown",
   "metadata": {},
   "source": [
    "Have you noticed a pattern? It is easy to see (and trivial to prove by induction) that\n",
    "\n",
    "\\begin{align}\n",
    "\t\\int_0^\\infty x^{2n-1} \\ \\exp\\left(-Mx^2\\right) \\ \\mathrm{d}x = \\frac{(n-1)!}{2M^n}\n",
    "\\end{align}\n",
    "\n",
    "We're done! (At least for the case $N$ is odd...)\n",
    "\n",
    "\n"
   ]
  },
  {
   "cell_type": "markdown",
   "metadata": {},
   "source": [
    "But the fun doesn't stop there. Let's put $M=1$ to get\n",
    "\n",
    "$$(n-1)! = 2\\int_0^\\infty x^{2n-1} \\ \\exp\\left(-x^2\\right) \\ \\mathrm{d}x$$"
   ]
  },
  {
   "cell_type": "markdown",
   "metadata": {},
   "source": [
    "A simple change of variable $t=x^2$ gets us:\n",
    "\n",
    "$$(n-1)! = \\int_0^\\infty t^{n-1} \\ \\exp\\left(-t\\right) \\ \\mathrm{d}t$$"
   ]
  },
  {
   "cell_type": "markdown",
   "metadata": {},
   "source": [
    "Guess what, the right hand side is exactly the Gamma function, which is the natural extension of the factorial function to real numbers.\n",
    "\n",
    "$$(n-1)! = \\Gamma(n) = \\int_0^\\infty t^{n-1} \\ e^{-t} \\ \\mathrm{d}t$$"
   ]
  },
  {
   "cell_type": "markdown",
   "metadata": {},
   "source": [
    "And *that* is pretty amazing."
   ]
  }
 ],
 "metadata": {
  "kernelspec": {
   "display_name": "Python [Root]",
   "language": "python",
   "name": "Python [Root]"
  },
  "language_info": {
   "codemirror_mode": {
    "name": "ipython",
    "version": 2
   },
   "file_extension": ".py",
   "mimetype": "text/x-python",
   "name": "python",
   "nbconvert_exporter": "python",
   "pygments_lexer": "ipython2",
   "version": "2.7.12"
  }
 },
 "nbformat": 4,
 "nbformat_minor": 0
}
